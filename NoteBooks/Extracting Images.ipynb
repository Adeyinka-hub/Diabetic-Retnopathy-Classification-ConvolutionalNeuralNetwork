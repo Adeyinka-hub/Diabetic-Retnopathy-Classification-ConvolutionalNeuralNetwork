{
 "cells": [
  {
   "cell_type": "markdown",
   "metadata": {
    "colab_type": "text",
    "id": "4SWU5-NNsZJ3"
   },
   "source": [
    "# Authentication Establishment"
   ]
  },
  {
   "cell_type": "code",
   "execution_count": null,
   "metadata": {
    "colab": {},
    "colab_type": "code",
    "id": "E9WM5UntsSWD"
   },
   "outputs": [],
   "source": [
    "!pip install -U -q PyDrive\n",
    "from pydrive.auth import GoogleAuth\n",
    "from pydrive.drive import GoogleDrive\n",
    "from google.colab import auth\n",
    "from oauth2client.client import GoogleCredentials\n",
    "\n",
    "# 1. Authenticate and create the PyDrive client.\n",
    "auth.authenticate_user()\n",
    "gauth = GoogleAuth()\n",
    "gauth.credentials = GoogleCredentials.get_application_default()\n",
    "drive = GoogleDrive(gauth)"
   ]
  },
  {
   "cell_type": "markdown",
   "metadata": {
    "colab_type": "text",
    "id": "I_32YlHFsit1"
   },
   "source": [
    "# Import Data"
   ]
  },
  {
   "cell_type": "code",
   "execution_count": null,
   "metadata": {
    "colab": {},
    "colab_type": "code",
    "id": "6JQlzGZTsWpc"
   },
   "outputs": [],
   "source": [
    "!mkdir ~/.kaggle\n",
    "!echo '{\"username\":\"abhiksark\",\"key\":\"xxx\"}' > ~/.kaggle/kaggle.json"
   ]
  },
  {
   "cell_type": "code",
   "execution_count": null,
   "metadata": {
    "colab": {
     "base_uri": "https://localhost:8080/",
     "height": 2868
    },
    "colab_type": "code",
    "id": "7F_zF18vsiO6",
    "outputId": "47d5f24e-af70-4b38-b516-c102cdbbf27f"
   },
   "outputs": [],
   "source": [
    "!pip install fastai==0.7\n",
    "!pip install torchtext==0.2.3\n",
    "!pip install torchvision==0.1.9\n",
    "\n",
    "!wget http://files.fast.ai/models/weights.tgz \n",
    "!mkdir /usr/local/lib/python3.6/dist-packages/fastai/weights\n",
    "!tar -xvzf weights.tgz -C /usr/local/lib/python3.6/dist-packages/fastai/"
   ]
  },
  {
   "cell_type": "code",
   "execution_count": null,
   "metadata": {
    "colab": {
     "base_uri": "https://localhost:8080/",
     "height": 816
    },
    "colab_type": "code",
    "id": "u3zRw9T7spyt",
    "outputId": "97ca0314-cfc9-4696-ebc9-a59194e51c46"
   },
   "outputs": [],
   "source": [
    "!kaggle competitions download -c diabetic-retinopathy-detection -p datalab"
   ]
  },
  {
   "cell_type": "code",
   "execution_count": null,
   "metadata": {
    "colab": {},
    "colab_type": "code",
    "id": "3VQ49b7FtX3U"
   },
   "outputs": [],
   "source": [
    "!mkdir tmp"
   ]
  },
  {
   "cell_type": "code",
   "execution_count": null,
   "metadata": {
    "colab": {},
    "colab_type": "code",
    "id": "FIsKZ59auG5E"
   },
   "outputs": [],
   "source": [
    "%%capture\n",
    "!7z x datalab/test.zip.001\n",
    "!7z x datalab/train.zip.001\n",
    "!unzip datalab/trainLabels.csv.zip"
   ]
  },
  {
   "cell_type": "code",
   "execution_count": null,
   "metadata": {
    "colab": {},
    "colab_type": "code",
    "id": "yLhwmmM6ABI9"
   },
   "outputs": [],
   "source": [
    "!mv test tmp\n",
    "!mv train tmp"
   ]
  },
  {
   "cell_type": "markdown",
   "metadata": {
    "colab_type": "text",
    "id": "iYcUx0Nr95fH"
   },
   "source": [
    "# Pre-Processing"
   ]
  },
  {
   "cell_type": "code",
   "execution_count": null,
   "metadata": {
    "colab": {},
    "colab_type": "code",
    "id": "5bBbhg9r99Tz"
   },
   "outputs": [],
   "source": [
    "#imports \n",
    "import pandas as pd\n",
    "import os\n",
    "import random\n",
    "import os\n",
    "import math\n",
    "import numpy as np\n",
    "\n",
    "from PIL import Image\n",
    "from skimage import io\n",
    "from skimage import exposure\n"
   ]
  },
  {
   "cell_type": "code",
   "execution_count": null,
   "metadata": {
    "colab": {
     "base_uri": "https://localhost:8080/",
     "height": 206
    },
    "colab_type": "code",
    "id": "KpPQDP5WMmT1",
    "outputId": "17ceeb0d-8c77-40a8-f9e8-677d8017f677"
   },
   "outputs": [],
   "source": [
    "\n",
    "trainLabels = pd.read_csv(\"trainLabels.csv\")\n",
    "trainLabels.head()"
   ]
  },
  {
   "cell_type": "code",
   "execution_count": null,
   "metadata": {
    "colab": {},
    "colab_type": "code",
    "id": "Ck_caIzCOgc2"
   },
   "outputs": [],
   "source": [
    "listing = os.listdir(\"tmp/train\") "
   ]
  },
  {
   "cell_type": "code",
   "execution_count": null,
   "metadata": {
    "colab": {},
    "colab_type": "code",
    "id": "yVaXVwp1M95x"
   },
   "outputs": [],
   "source": [
    "!mkdir tmp/train/0\n",
    "!mkdir tmp/train/1\n",
    "!mkdir tmp/train/2\n",
    "!mkdir tmp/train/3\n",
    "!mkdir tmp/train/4"
   ]
  },
  {
   "cell_type": "code",
   "execution_count": null,
   "metadata": {
    "colab": {},
    "colab_type": "code",
    "id": "tXo8UYPLO1fg"
   },
   "outputs": [],
   "source": [
    "base_dir = \"tmp/train/\"\n",
    "\n",
    "for file in listing:\n",
    "  try:\n",
    "    fileName = os.path.splitext(file)[0]\n",
    "    folder_name = trainLabels.loc[trainLabels.image==fileName, 'level'].values[0]  \n",
    "    os.rename(base_dir + file, base_dir + str(folder_name) + \"/\" + file )\n",
    "  except:\n",
    "    print(\"error\")\n",
    "    pass\n"
   ]
  },
  {
   "cell_type": "code",
   "execution_count": null,
   "metadata": {
    "colab": {
     "base_uri": "https://localhost:8080/",
     "height": 34
    },
    "colab_type": "code",
    "id": "_Vho5cFvPFDm",
    "outputId": "5252e483-b706-4975-9878-802328df4910"
   },
   "outputs": [],
   "source": [
    "!ls tmp/train/0 | wc -l"
   ]
  },
  {
   "cell_type": "code",
   "execution_count": null,
   "metadata": {
    "colab": {
     "base_uri": "https://localhost:8080/",
     "height": 34
    },
    "colab_type": "code",
    "id": "vLUiQYjCViTc",
    "outputId": "434cfd66-da37-407b-b14a-fb27c07c67e4"
   },
   "outputs": [],
   "source": [
    "!ls tmp/train/3 | wc -l"
   ]
  },
  {
   "cell_type": "code",
   "execution_count": null,
   "metadata": {
    "colab": {
     "base_uri": "https://localhost:8080/",
     "height": 34
    },
    "colab_type": "code",
    "id": "4eowaJQqVnzJ",
    "outputId": "e9f0b54c-ce2d-482e-be52-2c05cbd220a6"
   },
   "outputs": [],
   "source": [
    "!ls tmp/train/4 | wc -l"
   ]
  },
  {
   "cell_type": "code",
   "execution_count": null,
   "metadata": {},
   "outputs": [],
   "source": [
    "def remove_excess_images(PATH,number):\n",
    "    listing = os.listdir(PATH) \n",
    "    to_delete = random.sample(listing, number)\n",
    "    for file in to_delete:\n",
    "        os.remove(PATH+file)"
   ]
  },
  {
   "cell_type": "code",
   "execution_count": null,
   "metadata": {
    "colab": {},
    "colab_type": "code",
    "id": "G-4OOwBLRg7m"
   },
   "outputs": [],
   "source": [
    "# removed excess of the zero images\n",
    "DEL_DIR = \"tmp/train/0/\"\n",
    "remove_excess_images(DEL_DIR,18000)"
   ]
  },
  {
   "cell_type": "code",
   "execution_count": null,
   "metadata": {
    "colab": {},
    "colab_type": "code",
    "id": "zCscMutOTJSA"
   },
   "outputs": [],
   "source": [
    "def data_aug_val(path):\n",
    "    listing_test = os.listdir(path)\n",
    "    for file_name in listing_test:\n",
    "            image = io.imread(path+file_name)\n",
    "            v_min, v_max = np.percentile(image, (0.2, 99.8))\n",
    "            better_contrast = exposure.rescale_intensity(image, in_range=(v_min, v_max))\n",
    "            log_correction_image = exposure.adjust_log(image)\n",
    "            sigmoid_correction_image = exposure.adjust_sigmoid(image)\n",
    "            horizontal_flip = image[:, ::-1]\n",
    "            #color_inversion_image_with_np = np.invert(image)\n",
    "            #adjusted_gamma_image = exposure.adjust_gamma(image, gamma=0.4, gain=0.9)\n",
    "            io.imsave(path+str(1)+file_name,better_contrast)\n",
    "            io.imsave(path+str(2)+file_name,log_correction_image)\n",
    "            io.imsave(path+str(3)+file_name,sigmoid_correction_image)"
   ]
  },
  {
   "cell_type": "code",
   "execution_count": null,
   "metadata": {
    "colab": {
     "base_uri": "https://localhost:8080/",
     "height": 1947
    },
    "colab_type": "code",
    "id": "Y989TnOhUwWa",
    "outputId": "11b64f40-4083-4649-85de-dea0b91b0426"
   },
   "outputs": [],
   "source": [
    "data_aug_val(\"tmp/train/3/\")\n",
    "data_aug_val(\"tmp/train/4/\")"
   ]
  },
  {
   "cell_type": "code",
   "execution_count": null,
   "metadata": {
    "colab": {},
    "colab_type": "code",
    "id": "ValfjBedqPKu"
   },
   "outputs": [],
   "source": [
    "import sys\n",
    "from time import sleep\n",
    "from tqdm import tqdm\n",
    "import PIL\n",
    "\n",
    "\n",
    "def resize(DIR):\n",
    "    list_test =  os.listdir(DIR) \n",
    "    j=0\n",
    "    size = 512,512\n",
    "    with tqdm(total=len(list_test), file=sys.stdout) as pbar:\n",
    "        for i in list_test:\n",
    "            name = DIR + str(i)\n",
    "            j=j+1\n",
    "            pbar.set_description('processed: %d' % (1 + j))\n",
    "            pbar.update(1)\n",
    "            try:\n",
    "                im = PIL.Image.open(name)\n",
    "                im.thumbnail(size, PIL.Image.ANTIALIAS)\n",
    "                im.save(name, \"jpeg\")\n",
    "            except IOError:\n",
    "                print(\"cannot create thumbnail for '%s'\" % name)"
   ]
  },
  {
   "cell_type": "code",
   "execution_count": null,
   "metadata": {
    "colab": {
     "base_uri": "https://localhost:8080/",
     "height": 104
    },
    "colab_type": "code",
    "id": "YtqiggtZg3rp",
    "outputId": "e611d08b-9c76-457a-f1d0-3514b9b5d771"
   },
   "outputs": [],
   "source": [
    "resize(\"tmp/train/0/\");resize(\"tmp/train/1/\");resize(\"tmp/train/2/\");resize(\"tmp/train/3/\");resize(\"tmp/train/4/\");"
   ]
  },
  {
   "cell_type": "code",
   "execution_count": null,
   "metadata": {
    "colab": {},
    "colab_type": "code",
    "id": "5b2FU9jC6meR"
   },
   "outputs": [],
   "source": [
    "!mkdir tmp/val\n",
    "!mkdir tmp/val/0\n",
    "!mkdir tmp/val/1\n",
    "!mkdir tmp/val/2\n",
    "!mkdir tmp/val/3\n",
    "!mkdir tmp/val/4"
   ]
  },
  {
   "cell_type": "code",
   "execution_count": null,
   "metadata": {
    "colab": {
     "base_uri": "https://localhost:8080/",
     "height": 104
    },
    "colab_type": "code",
    "id": "zYvYXWA4pBY6",
    "outputId": "943652bd-a8b9-4d21-ced2-8e3726f225f1"
   },
   "outputs": [],
   "source": [
    "BASE_DIR = \"tmp/train/\"\n",
    "\n",
    "list_dir =  os.listdir(BASE_DIR)\n",
    "\n",
    "for tdir in list_dir:\n",
    "  list_images = os.listdir(BASE_DIR+tdir)\n",
    "  print(tdir)\n"
   ]
  },
  {
   "cell_type": "code",
   "execution_count": null,
   "metadata": {
    "colab": {},
    "colab_type": "code",
    "id": "DTMrhA3GokeX"
   },
   "outputs": [],
   "source": [
    "BASE_DIR = \"tmp/train/\"\n",
    "NEW_DIR= \"tmp/val/\"\n",
    "\n",
    "list_dir =  os.listdir(BASE_DIR)\n",
    "\n",
    "for tdir in list_dir:\n",
    "  list_images = os.listdir(BASE_DIR+tdir)\n",
    "  to_val = random.sample(list_images, len(list_images)//5)\n",
    "  for images in to_val:\n",
    "    os.rename(BASE_DIR + str(tdir) + \"/\"+ images, NEW_DIR + str(tdir) + \"/\" + images )\n",
    "    "
   ]
  },
  {
   "cell_type": "code",
   "execution_count": null,
   "metadata": {
    "colab": {},
    "colab_type": "code",
    "id": "itFiR12dqRdb"
   },
   "outputs": [],
   "source": [
    "%%capture\n",
    "!zip -r tmp/train{.zip,}"
   ]
  },
  {
   "cell_type": "code",
   "execution_count": null,
   "metadata": {
    "colab": {},
    "colab_type": "code",
    "id": "XLCTPaf1q7Vm"
   },
   "outputs": [],
   "source": [
    "%%capture\n",
    "!zip -r tmp/val{.zip,}"
   ]
  },
  {
   "cell_type": "code",
   "execution_count": null,
   "metadata": {
    "colab": {
     "base_uri": "https://localhost:8080/",
     "height": 34
    },
    "colab_type": "code",
    "id": "E7hDLtyprUPK",
    "outputId": "710e5063-a3e5-4c54-8ff3-83dcd7d976bb"
   },
   "outputs": [],
   "source": [
    "!ls tmp"
   ]
  },
  {
   "cell_type": "markdown",
   "metadata": {},
   "source": [
    "# Uploading the ZippedFile in Google Drive "
   ]
  },
  {
   "cell_type": "code",
   "execution_count": null,
   "metadata": {
    "colab": {
     "base_uri": "https://localhost:8080/",
     "height": 34
    },
    "colab_type": "code",
    "id": "jJBZqfeoq_AD",
    "outputId": "a391f221-e2bf-49ef-fa00-a7b8eb5342e6"
   },
   "outputs": [],
   "source": [
    "!pip install -U -q PyDrive\n",
    "from pydrive.auth import GoogleAuth\n",
    "from pydrive.drive import GoogleDrive\n",
    "from google.colab import auth\n",
    "from oauth2client.client import GoogleCredentials\n",
    "\n",
    "# 1. Authenticate and create the PyDrive client.\n",
    "auth.authenticate_user()\n",
    "gauth = GoogleAuth()\n",
    "gauth.credentials = GoogleCredentials.get_application_default()\n",
    "drive = GoogleDrive(gauth)\n",
    "\n",
    "\n",
    "# 2. Save Keras Model or weights on google drive\n",
    "\n",
    "# create on Colab directory\n",
    "  \n",
    "model_file = drive.CreateFile({'title' : 'train.zip'})\n",
    "model_file.SetContentFile('./tmp/train.zip')\n",
    "model_file.Upload()\n",
    "\n",
    "# download to google drive\n",
    "drive.CreateFile({'id': model_file.get('id')})\n"
   ]
  },
  {
   "cell_type": "code",
   "execution_count": null,
   "metadata": {
    "colab": {
     "base_uri": "https://localhost:8080/",
     "height": 34
    },
    "colab_type": "code",
    "id": "3O5kUV_Brap9",
    "outputId": "7a7a62f0-f01e-4269-bb02-7fbc27285e46"
   },
   "outputs": [],
   "source": [
    "!pip install -U -q PyDrive\n",
    "from pydrive.auth import GoogleAuth\n",
    "from pydrive.drive import GoogleDrive\n",
    "from google.colab import auth\n",
    "from oauth2client.client import GoogleCredentials\n",
    "\n",
    "# 1. Authenticate and create the PyDrive client.\n",
    "auth.authenticate_user()\n",
    "gauth = GoogleAuth()\n",
    "gauth.credentials = GoogleCredentials.get_application_default()\n",
    "drive = GoogleDrive(gauth)\n",
    "\n",
    "\n",
    "# 2. Save Keras Model or weights on google drive\n",
    "\n",
    "# create on Colab directory\n",
    "  \n",
    "model_file = drive.CreateFile({'title' : 'val.zip'})\n",
    "model_file.SetContentFile('./tmp/val.zip')\n",
    "model_file.Upload()\n",
    "\n",
    "# download to google drive\n",
    "drive.CreateFile({'id': model_file.get('id')})\n"
   ]
  }
 ],
 "metadata": {
  "accelerator": "GPU",
  "colab": {
   "collapsed_sections": [],
   "name": "DR v2.0",
   "provenance": [],
   "version": "0.3.2"
  },
  "kernelspec": {
   "display_name": "Python 3",
   "language": "python",
   "name": "python3"
  },
  "language_info": {
   "codemirror_mode": {
    "name": "ipython",
    "version": 3
   },
   "file_extension": ".py",
   "mimetype": "text/x-python",
   "name": "python",
   "nbconvert_exporter": "python",
   "pygments_lexer": "ipython3",
   "version": "3.6.7"
  }
 },
 "nbformat": 4,
 "nbformat_minor": 1
}
